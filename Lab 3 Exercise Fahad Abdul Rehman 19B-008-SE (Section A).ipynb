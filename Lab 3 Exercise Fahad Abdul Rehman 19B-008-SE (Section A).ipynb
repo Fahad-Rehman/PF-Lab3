{
 "cells": [
  {
   "cell_type": "markdown",
   "metadata": {},
   "source": [
    "# Programming Exercise"
   ]
  },
  {
   "cell_type": "code",
   "execution_count": 24,
   "metadata": {},
   "outputs": [
    {
     "name": "stdout",
     "output_type": "stream",
     "text": [
      "Magnitude of linear velocity for r1 is: 5.0 m/s\n",
      "Magnitude of linear velocity for r2 is: 10 m/s\n",
      "Magnitude of linear velocity for r3 is: 20 m/s\n"
     ]
    }
   ],
   "source": [
    "#Question No: 1\n",
    "#Linear velocity of ball connected to string\n",
    "\n",
    "r1 = 0.5\n",
    "r2 = 1\n",
    "r3 = 2\n",
    "angular_speed = 10 #Radians/second\n",
    "\n",
    "#Part a\n",
    "linear_velocity1 = (r1 * angular_speed)\n",
    "print(\"Magnitude of linear velocity for r1 is: \" + str(linear_velocity1) + \" m/s\")\n",
    "\n",
    "#Part b\n",
    "linear_velocity2 = (r2 * angular_speed)\n",
    "print(\"Magnitude of linear velocity for r2 is: \" + str(linear_velocity2) + \" m/s\")\n",
    "\n",
    "#Part c\n",
    "linear_velocity3 = (r3 * angular_speed)\n",
    "print(\"Magnitude of linear velocity for r3 is: \" + str(linear_velocity3) + \" m/s\")"
   ]
  },
  {
   "cell_type": "code",
   "execution_count": 25,
   "metadata": {},
   "outputs": [
    {
     "name": "stdout",
     "output_type": "stream",
     "text": [
      "Magnitude of linear velocity for r1 is: 2616.666666666667 m/s\n",
      "Magnitude of linear velocity for r2 is: 5233.333333333334 m/s\n"
     ]
    }
   ],
   "source": [
    "#Question No: 2\n",
    "#Magnitude of linear velocity of blender rotate\n",
    "\n",
    "r1 = 5\n",
    "r2 = 10\n",
    "revolution_minute = 5000\n",
    "revolution_second = (revolution_minute / 60)\n",
    "radians_second = (revolution_second * 6.28)\n",
    "\n",
    "#Part a\n",
    "linear_velocity1 = (r1 * radians_second)\n",
    "print(\"Magnitude of linear velocity for r1 is: \" + str(linear_velocity1) + \" m/s\")\n",
    "\n",
    "#Part b\n",
    "linear_velocity2 = (r2 * radians_second)\n",
    "print(\"Magnitude of linear velocity for r2 is: \" + str(linear_velocity2) + \" m/s\")"
   ]
  },
  {
   "cell_type": "code",
   "execution_count": 26,
   "metadata": {},
   "outputs": [
    {
     "name": "stdout",
     "output_type": "stream",
     "text": [
      "3.3333333333333335 radians/second\n"
     ]
    }
   ],
   "source": [
    "#Question No: 3\n",
    "#Magnitude of angular velocity of wheel\n",
    "\n",
    "radius_cm = 30\n",
    "radius_m = (radius_cm / 10)\n",
    "linear_velocity = 10 #Meters/second\n",
    "\n",
    "angular_velocity = (linear_velocity / radius_m)\n",
    "print(str(angular_velocity) + \" radians/second\")"
   ]
  },
  {
   "cell_type": "code",
   "execution_count": 27,
   "metadata": {},
   "outputs": [
    {
     "name": "stdout",
     "output_type": "stream",
     "text": [
      "40.0 radians/second\n"
     ]
    }
   ],
   "source": [
    "#Question No: 4\n",
    "#Angular speed of car tire\n",
    "\n",
    "radius = 0.25 #meter\n",
    "linear_speed_of_tires = 10 #meters/second\n",
    "\n",
    "angular_speed = (linear_speed_of_tires / radius)\n",
    "print(str(angular_speed) + \" radians/second\")"
   ]
  },
  {
   "cell_type": "code",
   "execution_count": 28,
   "metadata": {},
   "outputs": [
    {
     "name": "stdout",
     "output_type": "stream",
     "text": [
      "251.20000000000002 meters\n"
     ]
    }
   ],
   "source": [
    "#Question No: 5\n",
    "#Distance of car travelling\n",
    "\n",
    "radius_cm = 20\n",
    "radius_m = (radius_cm / 10)\n",
    "angularSpeed_min = 120\n",
    "angularSpeed_second = (angularSpeed_min / 60)\n",
    "angularSpeed_radians = (angularSpeed_second * 6.28)\n",
    "time = 10 #seconds\n",
    "\n",
    "linear_velocity = (radius_m * angularSpeed_radians)\n",
    "distance = (linear_velocity * time)\n",
    "print(str(distance) + \" meters\")"
   ]
  },
  {
   "cell_type": "code",
   "execution_count": 29,
   "metadata": {},
   "outputs": [
    {
     "name": "stdout",
     "output_type": "stream",
     "text": [
      "Velocity in meters is: 80450.0 meters\n",
      "Velocity in meter per second is: 22.34722222222222 m/s\n",
      "Acceleration is meter per hour squared is: 32180.0 m/hr2\n",
      "Acceleration is meter per squared second is: 0.00248302866419912 m/s2\n",
      "Time in second is: 7200 seconds\n",
      "4.469415839988557 meters\n"
     ]
    }
   ],
   "source": [
    "#Question No: 6\n",
    "#Distance the care travels from one point to other\n",
    "\n",
    "#Converting velocity from mile to meter\n",
    "velocity_mile = 50\n",
    "velocity_km = float((velocity_mile * 1.609))\n",
    "velocity_m = float((velocity_km * 1000))\n",
    "print(\"Velocity in meters is: \" + str(velocity_m) + \" meters\")\n",
    "\n",
    "#Converting velocity from m/hr to m/s\n",
    "velocity_m_hr = 80450\n",
    "velocity_m_min = float(velocity_m_hr / 60)\n",
    "velocity_m_sec = float(velocity_m_min / 60)\n",
    "print(\"Velocity in meter per second is: \" + str(velocity_m_sec) + \" m/s\")\n",
    "\n",
    "#Converting acceleration from mile to meter\n",
    "acceleration_mile = 20\n",
    "acceleration_km = float(acceleration_mile * 1.609)\n",
    "acceleration_meter = float(acceleration_km * 1000)\n",
    "print(\"Acceleration is meter per hour squared is: \" + str(acceleration_meter) + \" m/hr2\")\n",
    "\n",
    "#Converting acceleration from m/hr2 to m/s2\n",
    "acceleration_m_hr2 = 32180\n",
    "acceleration_m_min2 = (acceleration_m_hr2 * 0.000277778)\n",
    "acceleration_m_sec2 = (acceleration_m_min2 * 0.000277778)\n",
    "print(\"Acceleration is meter per squared second is: \" + str(acceleration_m_sec2) + \" m/s2\")\n",
    "#Converting time from hours to seconds\n",
    "time_hr = 2\n",
    "time_min = (time_hr * 60)\n",
    "time_sec = (time_min * 60)\n",
    "print(\"Time in second is: \" + str(time_sec) + \" seconds\")\n",
    "\n",
    "#Distance travelled by car\n",
    "distance = (velocity_m_sec - (acceleration_m_sec2 * time_sec))\n",
    "print(str(distance) + \" meters\")"
   ]
  },
  {
   "cell_type": "code",
   "execution_count": 30,
   "metadata": {},
   "outputs": [
    {
     "name": "stdout",
     "output_type": "stream",
     "text": [
      "The height in meter is: 30.478512648582747 meters\n",
      "The acceleration in meter per second squared is: 9.7536 m/s2\n",
      "The velocity with which stone will hit the ground is: 24.383405052175004 m/s\n"
     ]
    }
   ],
   "source": [
    "#Question No: 7\n",
    "#To find the velocity with which the stone hits the ground\n",
    "\n",
    "#Converting height from feet to meter\n",
    "height_feet = 100\n",
    "height_meter = (height_feet / 3.281)\n",
    "print(\"The height in meter is: \" + str(height_meter) + \" meters\")\n",
    "\n",
    "#Converting acceleration from feet to meter\n",
    "acceleration_feet = 32\n",
    "acceleration_meter = (acceleration_feet * 0.3048)\n",
    "print(\"The acceleration in meter per second squared is: \" + str(acceleration_meter) + \" m/s2\")\n",
    "\n",
    "#Initial velocity\n",
    "u = 0 #Because stone is at rest\n",
    "\n",
    "#Calculating final velocity\n",
    "from math import sqrt\n",
    "v_squared = (2 * acceleration_meter * height_meter)\n",
    "v = sqrt(v_squared)\n",
    "print(\"The velocity with which stone will hit the ground is: \" + str(v) + \" m/s\")"
   ]
  }
 ],
 "metadata": {
  "kernelspec": {
   "display_name": "Python 3",
   "language": "python",
   "name": "python3"
  },
  "language_info": {
   "codemirror_mode": {
    "name": "ipython",
    "version": 3
   },
   "file_extension": ".py",
   "mimetype": "text/x-python",
   "name": "python",
   "nbconvert_exporter": "python",
   "pygments_lexer": "ipython3",
   "version": "3.7.3"
  }
 },
 "nbformat": 4,
 "nbformat_minor": 2
}
